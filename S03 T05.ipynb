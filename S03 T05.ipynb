{
 "cells": [
  {
   "cell_type": "markdown",
   "id": "5e3c20ba-7747-4bd7-bd49-fd5091969ba6",
   "metadata": {},
   "source": [
    "# S03 T05: Exploració de les dades\n",
    "\n"
   ]
  },
  {
   "cell_type": "markdown",
   "id": "3b23cc79-9819-4522-9364-8cd6a92da6bf",
   "metadata": {},
   "source": [
    "## Nivell 1"
   ]
  },
  {
   "cell_type": "markdown",
   "id": "ff130ce3-01d7-42d4-b470-7faaceda82bc",
   "metadata": {},
   "source": [
    "### Exercici 1"
   ]
  },
  {
   "cell_type": "markdown",
   "id": "f48cdb92-022a-49df-9048-1009253b7b95",
   "metadata": {},
   "source": [
    "Descarrega el data set Airlines Delay: Airline on-time statistics and delay causes i carrega’l a un pandas Dataframe. Explora les dades que conté, i queda’t únicament amb les columnes que consideris rellevants."
   ]
  },
  {
   "cell_type": "markdown",
   "id": "d91b202e-cbf6-4373-a259-3e734157395a",
   "metadata": {},
   "source": [
    "### Exercici 2"
   ]
  },
  {
   "cell_type": "markdown",
   "id": "501be35f-8278-4d4c-8007-bba63f7179e6",
   "metadata": {},
   "source": [
    "Fes un informe complet del data set:.\n",
    "\n",
    "Resumeix estadísticament les columnes d’interès\n",
    "Troba quantes dades faltants hi ha per columna\n",
    "Crea columnes noves (velocitat mitjana del vol, si ha arribat tard o no...)\n",
    "Taula de les aerolínies amb més endarreriments acumulats\n",
    "Quins són els vols més llargs? I els més endarrerits?\n",
    "Etc."
   ]
  },
  {
   "cell_type": "markdown",
   "id": "d93ee9fc-a42f-4618-86e7-6aa790bcb49c",
   "metadata": {},
   "source": [
    "### Exercici 3"
   ]
  },
  {
   "cell_type": "markdown",
   "id": "44bc490f-0812-42fc-9db1-0182ecc63d3d",
   "metadata": {},
   "source": [
    "Exporta el data set net i amb les noves columnes a Excel."
   ]
  },
  {
   "cell_type": "code",
   "execution_count": null,
   "id": "9c12634f-a59f-45e1-b0ef-4df296e22ced",
   "metadata": {},
   "outputs": [],
   "source": []
  }
 ],
 "metadata": {
  "kernelspec": {
   "display_name": "Python 3",
   "language": "python",
   "name": "python3"
  },
  "language_info": {
   "codemirror_mode": {
    "name": "ipython",
    "version": 3
   },
   "file_extension": ".py",
   "mimetype": "text/x-python",
   "name": "python",
   "nbconvert_exporter": "python",
   "pygments_lexer": "ipython3",
   "version": "3.8.8"
  }
 },
 "nbformat": 4,
 "nbformat_minor": 5
}
