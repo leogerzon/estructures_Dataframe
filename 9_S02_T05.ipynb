{
  "nbformat": 4,
  "nbformat_minor": 0,
  "metadata": {
    "colab": {
      "name": "9- S02 T05.ipynb",
      "provenance": []
    },
    "kernelspec": {
      "name": "python3",
      "display_name": "Python 3"
    },
    "language_info": {
      "name": "python"
    }
  },
  "cells": [
    {
      "cell_type": "markdown",
      "metadata": {
        "id": "b-MbrTLz8k_G"
      },
      "source": [
        "# 9- S02 T05: Exploració de les dades\n",
        "\n"
      ]
    },
    {
      "cell_type": "markdown",
      "metadata": {
        "id": "IXN_KOCi8vbc"
      },
      "source": [
        "## Nivell 1"
      ]
    },
    {
      "cell_type": "markdown",
      "metadata": {
        "id": "XAPWsmoK87LO"
      },
      "source": [
        "### Exercici 1"
      ]
    },
    {
      "cell_type": "markdown",
      "metadata": {
        "id": "rC5WlGMI8-9Q"
      },
      "source": [
        "**Descarrega el data set Airlines Delay: Airline on-time statistics and delay causes i carrega’l a un pandas Dataframe. Explora les dades que conté, i queda’t únicament amb les columnes que consideris rellevants.**"
      ]
    },
    {
      "cell_type": "code",
      "metadata": {
        "id": "FA4t9at7Xwvz"
      },
      "source": [
        "import numpy as np\n",
        "import pandas as pd \n",
        "import matplotlib.pylab as plt \n",
        "import seaborn as sns"
      ],
      "execution_count": 21,
      "outputs": []
    },
    {
      "cell_type": "code",
      "metadata": {
        "colab": {
          "base_uri": "https://localhost:8080/",
          "height": 244
        },
        "id": "cSKp-Zxf8RHt",
        "outputId": "c54e7750-30c7-47be-f278-9e74514424f1"
      },
      "source": [
        "df = pd.read_csv(\"/content/drive/MyDrive/Datasets/DelayedFlights.csv\")\n",
        "df.head()"
      ],
      "execution_count": 22,
      "outputs": [
        {
          "output_type": "execute_result",
          "data": {
            "text/html": [
              "<div>\n",
              "<style scoped>\n",
              "    .dataframe tbody tr th:only-of-type {\n",
              "        vertical-align: middle;\n",
              "    }\n",
              "\n",
              "    .dataframe tbody tr th {\n",
              "        vertical-align: top;\n",
              "    }\n",
              "\n",
              "    .dataframe thead th {\n",
              "        text-align: right;\n",
              "    }\n",
              "</style>\n",
              "<table border=\"1\" class=\"dataframe\">\n",
              "  <thead>\n",
              "    <tr style=\"text-align: right;\">\n",
              "      <th></th>\n",
              "      <th>Unnamed: 0</th>\n",
              "      <th>Year</th>\n",
              "      <th>Month</th>\n",
              "      <th>DayofMonth</th>\n",
              "      <th>DayOfWeek</th>\n",
              "      <th>DepTime</th>\n",
              "      <th>CRSDepTime</th>\n",
              "      <th>ArrTime</th>\n",
              "      <th>CRSArrTime</th>\n",
              "      <th>UniqueCarrier</th>\n",
              "      <th>FlightNum</th>\n",
              "      <th>TailNum</th>\n",
              "      <th>ActualElapsedTime</th>\n",
              "      <th>CRSElapsedTime</th>\n",
              "      <th>AirTime</th>\n",
              "      <th>ArrDelay</th>\n",
              "      <th>DepDelay</th>\n",
              "      <th>Origin</th>\n",
              "      <th>Dest</th>\n",
              "      <th>Distance</th>\n",
              "      <th>TaxiIn</th>\n",
              "      <th>TaxiOut</th>\n",
              "      <th>Cancelled</th>\n",
              "      <th>CancellationCode</th>\n",
              "      <th>Diverted</th>\n",
              "      <th>CarrierDelay</th>\n",
              "      <th>WeatherDelay</th>\n",
              "      <th>NASDelay</th>\n",
              "      <th>SecurityDelay</th>\n",
              "      <th>LateAircraftDelay</th>\n",
              "    </tr>\n",
              "  </thead>\n",
              "  <tbody>\n",
              "    <tr>\n",
              "      <th>0</th>\n",
              "      <td>0</td>\n",
              "      <td>2008</td>\n",
              "      <td>1</td>\n",
              "      <td>3</td>\n",
              "      <td>4</td>\n",
              "      <td>2003.0</td>\n",
              "      <td>1955</td>\n",
              "      <td>2211.0</td>\n",
              "      <td>2225</td>\n",
              "      <td>WN</td>\n",
              "      <td>335</td>\n",
              "      <td>N712SW</td>\n",
              "      <td>128.0</td>\n",
              "      <td>150.0</td>\n",
              "      <td>116.0</td>\n",
              "      <td>-14.0</td>\n",
              "      <td>8.0</td>\n",
              "      <td>IAD</td>\n",
              "      <td>TPA</td>\n",
              "      <td>810</td>\n",
              "      <td>4.0</td>\n",
              "      <td>8.0</td>\n",
              "      <td>0</td>\n",
              "      <td>N</td>\n",
              "      <td>0</td>\n",
              "      <td>NaN</td>\n",
              "      <td>NaN</td>\n",
              "      <td>NaN</td>\n",
              "      <td>NaN</td>\n",
              "      <td>NaN</td>\n",
              "    </tr>\n",
              "    <tr>\n",
              "      <th>1</th>\n",
              "      <td>1</td>\n",
              "      <td>2008</td>\n",
              "      <td>1</td>\n",
              "      <td>3</td>\n",
              "      <td>4</td>\n",
              "      <td>754.0</td>\n",
              "      <td>735</td>\n",
              "      <td>1002.0</td>\n",
              "      <td>1000</td>\n",
              "      <td>WN</td>\n",
              "      <td>3231</td>\n",
              "      <td>N772SW</td>\n",
              "      <td>128.0</td>\n",
              "      <td>145.0</td>\n",
              "      <td>113.0</td>\n",
              "      <td>2.0</td>\n",
              "      <td>19.0</td>\n",
              "      <td>IAD</td>\n",
              "      <td>TPA</td>\n",
              "      <td>810</td>\n",
              "      <td>5.0</td>\n",
              "      <td>10.0</td>\n",
              "      <td>0</td>\n",
              "      <td>N</td>\n",
              "      <td>0</td>\n",
              "      <td>NaN</td>\n",
              "      <td>NaN</td>\n",
              "      <td>NaN</td>\n",
              "      <td>NaN</td>\n",
              "      <td>NaN</td>\n",
              "    </tr>\n",
              "    <tr>\n",
              "      <th>2</th>\n",
              "      <td>2</td>\n",
              "      <td>2008</td>\n",
              "      <td>1</td>\n",
              "      <td>3</td>\n",
              "      <td>4</td>\n",
              "      <td>628.0</td>\n",
              "      <td>620</td>\n",
              "      <td>804.0</td>\n",
              "      <td>750</td>\n",
              "      <td>WN</td>\n",
              "      <td>448</td>\n",
              "      <td>N428WN</td>\n",
              "      <td>96.0</td>\n",
              "      <td>90.0</td>\n",
              "      <td>76.0</td>\n",
              "      <td>14.0</td>\n",
              "      <td>8.0</td>\n",
              "      <td>IND</td>\n",
              "      <td>BWI</td>\n",
              "      <td>515</td>\n",
              "      <td>3.0</td>\n",
              "      <td>17.0</td>\n",
              "      <td>0</td>\n",
              "      <td>N</td>\n",
              "      <td>0</td>\n",
              "      <td>NaN</td>\n",
              "      <td>NaN</td>\n",
              "      <td>NaN</td>\n",
              "      <td>NaN</td>\n",
              "      <td>NaN</td>\n",
              "    </tr>\n",
              "    <tr>\n",
              "      <th>3</th>\n",
              "      <td>4</td>\n",
              "      <td>2008</td>\n",
              "      <td>1</td>\n",
              "      <td>3</td>\n",
              "      <td>4</td>\n",
              "      <td>1829.0</td>\n",
              "      <td>1755</td>\n",
              "      <td>1959.0</td>\n",
              "      <td>1925</td>\n",
              "      <td>WN</td>\n",
              "      <td>3920</td>\n",
              "      <td>N464WN</td>\n",
              "      <td>90.0</td>\n",
              "      <td>90.0</td>\n",
              "      <td>77.0</td>\n",
              "      <td>34.0</td>\n",
              "      <td>34.0</td>\n",
              "      <td>IND</td>\n",
              "      <td>BWI</td>\n",
              "      <td>515</td>\n",
              "      <td>3.0</td>\n",
              "      <td>10.0</td>\n",
              "      <td>0</td>\n",
              "      <td>N</td>\n",
              "      <td>0</td>\n",
              "      <td>2.0</td>\n",
              "      <td>0.0</td>\n",
              "      <td>0.0</td>\n",
              "      <td>0.0</td>\n",
              "      <td>32.0</td>\n",
              "    </tr>\n",
              "    <tr>\n",
              "      <th>4</th>\n",
              "      <td>5</td>\n",
              "      <td>2008</td>\n",
              "      <td>1</td>\n",
              "      <td>3</td>\n",
              "      <td>4</td>\n",
              "      <td>1940.0</td>\n",
              "      <td>1915</td>\n",
              "      <td>2121.0</td>\n",
              "      <td>2110</td>\n",
              "      <td>WN</td>\n",
              "      <td>378</td>\n",
              "      <td>N726SW</td>\n",
              "      <td>101.0</td>\n",
              "      <td>115.0</td>\n",
              "      <td>87.0</td>\n",
              "      <td>11.0</td>\n",
              "      <td>25.0</td>\n",
              "      <td>IND</td>\n",
              "      <td>JAX</td>\n",
              "      <td>688</td>\n",
              "      <td>4.0</td>\n",
              "      <td>10.0</td>\n",
              "      <td>0</td>\n",
              "      <td>N</td>\n",
              "      <td>0</td>\n",
              "      <td>NaN</td>\n",
              "      <td>NaN</td>\n",
              "      <td>NaN</td>\n",
              "      <td>NaN</td>\n",
              "      <td>NaN</td>\n",
              "    </tr>\n",
              "  </tbody>\n",
              "</table>\n",
              "</div>"
            ],
            "text/plain": [
              "   Unnamed: 0  Year  Month  ...  NASDelay  SecurityDelay  LateAircraftDelay\n",
              "0           0  2008      1  ...       NaN            NaN                NaN\n",
              "1           1  2008      1  ...       NaN            NaN                NaN\n",
              "2           2  2008      1  ...       NaN            NaN                NaN\n",
              "3           4  2008      1  ...       0.0            0.0               32.0\n",
              "4           5  2008      1  ...       NaN            NaN                NaN\n",
              "\n",
              "[5 rows x 30 columns]"
            ]
          },
          "metadata": {},
          "execution_count": 22
        }
      ]
    },
    {
      "cell_type": "code",
      "metadata": {
        "colab": {
          "base_uri": "https://localhost:8080/"
        },
        "id": "ucZsprb3hYgX",
        "outputId": "438c660d-7e84-4a96-ee17-f3b4ed0ef158"
      },
      "source": [
        "print(df.shape)"
      ],
      "execution_count": 23,
      "outputs": [
        {
          "output_type": "stream",
          "name": "stdout",
          "text": [
            "(1936758, 30)\n"
          ]
        }
      ]
    },
    {
      "cell_type": "code",
      "metadata": {
        "colab": {
          "base_uri": "https://localhost:8080/"
        },
        "id": "NqTvK5SKP_ql",
        "outputId": "7f8835f5-5f1d-4a7e-ac13-714adb9128d6"
      },
      "source": [
        "print(df.columns)"
      ],
      "execution_count": 24,
      "outputs": [
        {
          "output_type": "stream",
          "name": "stdout",
          "text": [
            "Index(['Unnamed: 0', 'Year', 'Month', 'DayofMonth', 'DayOfWeek', 'DepTime',\n",
            "       'CRSDepTime', 'ArrTime', 'CRSArrTime', 'UniqueCarrier', 'FlightNum',\n",
            "       'TailNum', 'ActualElapsedTime', 'CRSElapsedTime', 'AirTime', 'ArrDelay',\n",
            "       'DepDelay', 'Origin', 'Dest', 'Distance', 'TaxiIn', 'TaxiOut',\n",
            "       'Cancelled', 'CancellationCode', 'Diverted', 'CarrierDelay',\n",
            "       'WeatherDelay', 'NASDelay', 'SecurityDelay', 'LateAircraftDelay'],\n",
            "      dtype='object')\n"
          ]
        }
      ]
    },
    {
      "cell_type": "code",
      "metadata": {
        "colab": {
          "base_uri": "https://localhost:8080/"
        },
        "id": "HxG4UZCjQHlo",
        "outputId": "a438d78a-c0eb-498f-8390-983bfb6c78dd"
      },
      "source": [
        "print(df.info())"
      ],
      "execution_count": 25,
      "outputs": [
        {
          "output_type": "stream",
          "name": "stdout",
          "text": [
            "<class 'pandas.core.frame.DataFrame'>\n",
            "RangeIndex: 1936758 entries, 0 to 1936757\n",
            "Data columns (total 30 columns):\n",
            " #   Column             Dtype  \n",
            "---  ------             -----  \n",
            " 0   Unnamed: 0         int64  \n",
            " 1   Year               int64  \n",
            " 2   Month              int64  \n",
            " 3   DayofMonth         int64  \n",
            " 4   DayOfWeek          int64  \n",
            " 5   DepTime            float64\n",
            " 6   CRSDepTime         int64  \n",
            " 7   ArrTime            float64\n",
            " 8   CRSArrTime         int64  \n",
            " 9   UniqueCarrier      object \n",
            " 10  FlightNum          int64  \n",
            " 11  TailNum            object \n",
            " 12  ActualElapsedTime  float64\n",
            " 13  CRSElapsedTime     float64\n",
            " 14  AirTime            float64\n",
            " 15  ArrDelay           float64\n",
            " 16  DepDelay           float64\n",
            " 17  Origin             object \n",
            " 18  Dest               object \n",
            " 19  Distance           int64  \n",
            " 20  TaxiIn             float64\n",
            " 21  TaxiOut            float64\n",
            " 22  Cancelled          int64  \n",
            " 23  CancellationCode   object \n",
            " 24  Diverted           int64  \n",
            " 25  CarrierDelay       float64\n",
            " 26  WeatherDelay       float64\n",
            " 27  NASDelay           float64\n",
            " 28  SecurityDelay      float64\n",
            " 29  LateAircraftDelay  float64\n",
            "dtypes: float64(14), int64(11), object(5)\n",
            "memory usage: 443.3+ MB\n",
            "None\n"
          ]
        }
      ]
    },
    {
      "cell_type": "code",
      "metadata": {
        "colab": {
          "base_uri": "https://localhost:8080/",
          "height": 320
        },
        "id": "y9-QeAb6QxRn",
        "outputId": "59ea340b-87fc-4c18-a39b-3cbc1d1b6f25"
      },
      "source": [
        "df.describe()"
      ],
      "execution_count": 26,
      "outputs": [
        {
          "output_type": "execute_result",
          "data": {
            "text/html": [
              "<div>\n",
              "<style scoped>\n",
              "    .dataframe tbody tr th:only-of-type {\n",
              "        vertical-align: middle;\n",
              "    }\n",
              "\n",
              "    .dataframe tbody tr th {\n",
              "        vertical-align: top;\n",
              "    }\n",
              "\n",
              "    .dataframe thead th {\n",
              "        text-align: right;\n",
              "    }\n",
              "</style>\n",
              "<table border=\"1\" class=\"dataframe\">\n",
              "  <thead>\n",
              "    <tr style=\"text-align: right;\">\n",
              "      <th></th>\n",
              "      <th>Unnamed: 0</th>\n",
              "      <th>Year</th>\n",
              "      <th>Month</th>\n",
              "      <th>DayofMonth</th>\n",
              "      <th>DayOfWeek</th>\n",
              "      <th>DepTime</th>\n",
              "      <th>CRSDepTime</th>\n",
              "      <th>ArrTime</th>\n",
              "      <th>CRSArrTime</th>\n",
              "      <th>FlightNum</th>\n",
              "      <th>ActualElapsedTime</th>\n",
              "      <th>CRSElapsedTime</th>\n",
              "      <th>AirTime</th>\n",
              "      <th>ArrDelay</th>\n",
              "      <th>DepDelay</th>\n",
              "      <th>Distance</th>\n",
              "      <th>TaxiIn</th>\n",
              "      <th>TaxiOut</th>\n",
              "      <th>Cancelled</th>\n",
              "      <th>Diverted</th>\n",
              "      <th>CarrierDelay</th>\n",
              "      <th>WeatherDelay</th>\n",
              "      <th>NASDelay</th>\n",
              "      <th>SecurityDelay</th>\n",
              "      <th>LateAircraftDelay</th>\n",
              "    </tr>\n",
              "  </thead>\n",
              "  <tbody>\n",
              "    <tr>\n",
              "      <th>count</th>\n",
              "      <td>1.936758e+06</td>\n",
              "      <td>1936758.0</td>\n",
              "      <td>1.936758e+06</td>\n",
              "      <td>1.936758e+06</td>\n",
              "      <td>1.936758e+06</td>\n",
              "      <td>1.936758e+06</td>\n",
              "      <td>1.936758e+06</td>\n",
              "      <td>1.929648e+06</td>\n",
              "      <td>1.936758e+06</td>\n",
              "      <td>1.936758e+06</td>\n",
              "      <td>1.928371e+06</td>\n",
              "      <td>1.936560e+06</td>\n",
              "      <td>1.928371e+06</td>\n",
              "      <td>1.928371e+06</td>\n",
              "      <td>1.936758e+06</td>\n",
              "      <td>1.936758e+06</td>\n",
              "      <td>1.929648e+06</td>\n",
              "      <td>1.936303e+06</td>\n",
              "      <td>1.936758e+06</td>\n",
              "      <td>1.936758e+06</td>\n",
              "      <td>1.247488e+06</td>\n",
              "      <td>1.247488e+06</td>\n",
              "      <td>1.247488e+06</td>\n",
              "      <td>1.247488e+06</td>\n",
              "      <td>1.247488e+06</td>\n",
              "    </tr>\n",
              "    <tr>\n",
              "      <th>mean</th>\n",
              "      <td>3.341651e+06</td>\n",
              "      <td>2008.0</td>\n",
              "      <td>6.111106e+00</td>\n",
              "      <td>1.575347e+01</td>\n",
              "      <td>3.984827e+00</td>\n",
              "      <td>1.518534e+03</td>\n",
              "      <td>1.467473e+03</td>\n",
              "      <td>1.610141e+03</td>\n",
              "      <td>1.634225e+03</td>\n",
              "      <td>2.184263e+03</td>\n",
              "      <td>1.333059e+02</td>\n",
              "      <td>1.343027e+02</td>\n",
              "      <td>1.082771e+02</td>\n",
              "      <td>4.219988e+01</td>\n",
              "      <td>4.318518e+01</td>\n",
              "      <td>7.656862e+02</td>\n",
              "      <td>6.812975e+00</td>\n",
              "      <td>1.823220e+01</td>\n",
              "      <td>3.268348e-04</td>\n",
              "      <td>4.003598e-03</td>\n",
              "      <td>1.917940e+01</td>\n",
              "      <td>3.703571e+00</td>\n",
              "      <td>1.502164e+01</td>\n",
              "      <td>9.013714e-02</td>\n",
              "      <td>2.529647e+01</td>\n",
              "    </tr>\n",
              "    <tr>\n",
              "      <th>std</th>\n",
              "      <td>2.066065e+06</td>\n",
              "      <td>0.0</td>\n",
              "      <td>3.482546e+00</td>\n",
              "      <td>8.776272e+00</td>\n",
              "      <td>1.995966e+00</td>\n",
              "      <td>4.504853e+02</td>\n",
              "      <td>4.247668e+02</td>\n",
              "      <td>5.481781e+02</td>\n",
              "      <td>4.646347e+02</td>\n",
              "      <td>1.944702e+03</td>\n",
              "      <td>7.206007e+01</td>\n",
              "      <td>7.134144e+01</td>\n",
              "      <td>6.864261e+01</td>\n",
              "      <td>5.678472e+01</td>\n",
              "      <td>5.340250e+01</td>\n",
              "      <td>5.744797e+02</td>\n",
              "      <td>5.273595e+00</td>\n",
              "      <td>1.433853e+01</td>\n",
              "      <td>1.807562e-02</td>\n",
              "      <td>6.314722e-02</td>\n",
              "      <td>4.354621e+01</td>\n",
              "      <td>2.149290e+01</td>\n",
              "      <td>3.383305e+01</td>\n",
              "      <td>2.022714e+00</td>\n",
              "      <td>4.205486e+01</td>\n",
              "    </tr>\n",
              "    <tr>\n",
              "      <th>min</th>\n",
              "      <td>0.000000e+00</td>\n",
              "      <td>2008.0</td>\n",
              "      <td>1.000000e+00</td>\n",
              "      <td>1.000000e+00</td>\n",
              "      <td>1.000000e+00</td>\n",
              "      <td>1.000000e+00</td>\n",
              "      <td>0.000000e+00</td>\n",
              "      <td>1.000000e+00</td>\n",
              "      <td>0.000000e+00</td>\n",
              "      <td>1.000000e+00</td>\n",
              "      <td>1.400000e+01</td>\n",
              "      <td>-2.500000e+01</td>\n",
              "      <td>0.000000e+00</td>\n",
              "      <td>-1.090000e+02</td>\n",
              "      <td>6.000000e+00</td>\n",
              "      <td>1.100000e+01</td>\n",
              "      <td>0.000000e+00</td>\n",
              "      <td>0.000000e+00</td>\n",
              "      <td>0.000000e+00</td>\n",
              "      <td>0.000000e+00</td>\n",
              "      <td>0.000000e+00</td>\n",
              "      <td>0.000000e+00</td>\n",
              "      <td>0.000000e+00</td>\n",
              "      <td>0.000000e+00</td>\n",
              "      <td>0.000000e+00</td>\n",
              "    </tr>\n",
              "    <tr>\n",
              "      <th>25%</th>\n",
              "      <td>1.517452e+06</td>\n",
              "      <td>2008.0</td>\n",
              "      <td>3.000000e+00</td>\n",
              "      <td>8.000000e+00</td>\n",
              "      <td>2.000000e+00</td>\n",
              "      <td>1.203000e+03</td>\n",
              "      <td>1.135000e+03</td>\n",
              "      <td>1.316000e+03</td>\n",
              "      <td>1.325000e+03</td>\n",
              "      <td>6.100000e+02</td>\n",
              "      <td>8.000000e+01</td>\n",
              "      <td>8.200000e+01</td>\n",
              "      <td>5.800000e+01</td>\n",
              "      <td>9.000000e+00</td>\n",
              "      <td>1.200000e+01</td>\n",
              "      <td>3.380000e+02</td>\n",
              "      <td>4.000000e+00</td>\n",
              "      <td>1.000000e+01</td>\n",
              "      <td>0.000000e+00</td>\n",
              "      <td>0.000000e+00</td>\n",
              "      <td>0.000000e+00</td>\n",
              "      <td>0.000000e+00</td>\n",
              "      <td>0.000000e+00</td>\n",
              "      <td>0.000000e+00</td>\n",
              "      <td>0.000000e+00</td>\n",
              "    </tr>\n",
              "    <tr>\n",
              "      <th>50%</th>\n",
              "      <td>3.242558e+06</td>\n",
              "      <td>2008.0</td>\n",
              "      <td>6.000000e+00</td>\n",
              "      <td>1.600000e+01</td>\n",
              "      <td>4.000000e+00</td>\n",
              "      <td>1.545000e+03</td>\n",
              "      <td>1.510000e+03</td>\n",
              "      <td>1.715000e+03</td>\n",
              "      <td>1.705000e+03</td>\n",
              "      <td>1.543000e+03</td>\n",
              "      <td>1.160000e+02</td>\n",
              "      <td>1.160000e+02</td>\n",
              "      <td>9.000000e+01</td>\n",
              "      <td>2.400000e+01</td>\n",
              "      <td>2.400000e+01</td>\n",
              "      <td>6.060000e+02</td>\n",
              "      <td>6.000000e+00</td>\n",
              "      <td>1.400000e+01</td>\n",
              "      <td>0.000000e+00</td>\n",
              "      <td>0.000000e+00</td>\n",
              "      <td>2.000000e+00</td>\n",
              "      <td>0.000000e+00</td>\n",
              "      <td>2.000000e+00</td>\n",
              "      <td>0.000000e+00</td>\n",
              "      <td>8.000000e+00</td>\n",
              "    </tr>\n",
              "    <tr>\n",
              "      <th>75%</th>\n",
              "      <td>4.972467e+06</td>\n",
              "      <td>2008.0</td>\n",
              "      <td>9.000000e+00</td>\n",
              "      <td>2.300000e+01</td>\n",
              "      <td>6.000000e+00</td>\n",
              "      <td>1.900000e+03</td>\n",
              "      <td>1.815000e+03</td>\n",
              "      <td>2.030000e+03</td>\n",
              "      <td>2.014000e+03</td>\n",
              "      <td>3.422000e+03</td>\n",
              "      <td>1.650000e+02</td>\n",
              "      <td>1.650000e+02</td>\n",
              "      <td>1.370000e+02</td>\n",
              "      <td>5.600000e+01</td>\n",
              "      <td>5.300000e+01</td>\n",
              "      <td>9.980000e+02</td>\n",
              "      <td>8.000000e+00</td>\n",
              "      <td>2.100000e+01</td>\n",
              "      <td>0.000000e+00</td>\n",
              "      <td>0.000000e+00</td>\n",
              "      <td>2.100000e+01</td>\n",
              "      <td>0.000000e+00</td>\n",
              "      <td>1.500000e+01</td>\n",
              "      <td>0.000000e+00</td>\n",
              "      <td>3.300000e+01</td>\n",
              "    </tr>\n",
              "    <tr>\n",
              "      <th>max</th>\n",
              "      <td>7.009727e+06</td>\n",
              "      <td>2008.0</td>\n",
              "      <td>1.200000e+01</td>\n",
              "      <td>3.100000e+01</td>\n",
              "      <td>7.000000e+00</td>\n",
              "      <td>2.400000e+03</td>\n",
              "      <td>2.359000e+03</td>\n",
              "      <td>2.400000e+03</td>\n",
              "      <td>2.400000e+03</td>\n",
              "      <td>9.742000e+03</td>\n",
              "      <td>1.114000e+03</td>\n",
              "      <td>6.600000e+02</td>\n",
              "      <td>1.091000e+03</td>\n",
              "      <td>2.461000e+03</td>\n",
              "      <td>2.467000e+03</td>\n",
              "      <td>4.962000e+03</td>\n",
              "      <td>2.400000e+02</td>\n",
              "      <td>4.220000e+02</td>\n",
              "      <td>1.000000e+00</td>\n",
              "      <td>1.000000e+00</td>\n",
              "      <td>2.436000e+03</td>\n",
              "      <td>1.352000e+03</td>\n",
              "      <td>1.357000e+03</td>\n",
              "      <td>3.920000e+02</td>\n",
              "      <td>1.316000e+03</td>\n",
              "    </tr>\n",
              "  </tbody>\n",
              "</table>\n",
              "</div>"
            ],
            "text/plain": [
              "         Unnamed: 0       Year  ...  SecurityDelay  LateAircraftDelay\n",
              "count  1.936758e+06  1936758.0  ...   1.247488e+06       1.247488e+06\n",
              "mean   3.341651e+06     2008.0  ...   9.013714e-02       2.529647e+01\n",
              "std    2.066065e+06        0.0  ...   2.022714e+00       4.205486e+01\n",
              "min    0.000000e+00     2008.0  ...   0.000000e+00       0.000000e+00\n",
              "25%    1.517452e+06     2008.0  ...   0.000000e+00       0.000000e+00\n",
              "50%    3.242558e+06     2008.0  ...   0.000000e+00       8.000000e+00\n",
              "75%    4.972467e+06     2008.0  ...   0.000000e+00       3.300000e+01\n",
              "max    7.009727e+06     2008.0  ...   3.920000e+02       1.316000e+03\n",
              "\n",
              "[8 rows x 25 columns]"
            ]
          },
          "metadata": {},
          "execution_count": 26
        }
      ]
    },
    {
      "cell_type": "code",
      "metadata": {
        "colab": {
          "base_uri": "https://localhost:8080/",
          "height": 175
        },
        "id": "H2ByMkOBQ8UY",
        "outputId": "8de24ff0-4164-4f37-82fb-12a4350aa803"
      },
      "source": [
        "df.describe(include=['object', 'bool'])"
      ],
      "execution_count": 27,
      "outputs": [
        {
          "output_type": "execute_result",
          "data": {
            "text/html": [
              "<div>\n",
              "<style scoped>\n",
              "    .dataframe tbody tr th:only-of-type {\n",
              "        vertical-align: middle;\n",
              "    }\n",
              "\n",
              "    .dataframe tbody tr th {\n",
              "        vertical-align: top;\n",
              "    }\n",
              "\n",
              "    .dataframe thead th {\n",
              "        text-align: right;\n",
              "    }\n",
              "</style>\n",
              "<table border=\"1\" class=\"dataframe\">\n",
              "  <thead>\n",
              "    <tr style=\"text-align: right;\">\n",
              "      <th></th>\n",
              "      <th>UniqueCarrier</th>\n",
              "      <th>TailNum</th>\n",
              "      <th>Origin</th>\n",
              "      <th>Dest</th>\n",
              "      <th>CancellationCode</th>\n",
              "    </tr>\n",
              "  </thead>\n",
              "  <tbody>\n",
              "    <tr>\n",
              "      <th>count</th>\n",
              "      <td>1936758</td>\n",
              "      <td>1936753</td>\n",
              "      <td>1936758</td>\n",
              "      <td>1936758</td>\n",
              "      <td>1936758</td>\n",
              "    </tr>\n",
              "    <tr>\n",
              "      <th>unique</th>\n",
              "      <td>20</td>\n",
              "      <td>5366</td>\n",
              "      <td>303</td>\n",
              "      <td>304</td>\n",
              "      <td>4</td>\n",
              "    </tr>\n",
              "    <tr>\n",
              "      <th>top</th>\n",
              "      <td>WN</td>\n",
              "      <td>N325SW</td>\n",
              "      <td>ATL</td>\n",
              "      <td>ORD</td>\n",
              "      <td>N</td>\n",
              "    </tr>\n",
              "    <tr>\n",
              "      <th>freq</th>\n",
              "      <td>377602</td>\n",
              "      <td>965</td>\n",
              "      <td>131613</td>\n",
              "      <td>108984</td>\n",
              "      <td>1936125</td>\n",
              "    </tr>\n",
              "  </tbody>\n",
              "</table>\n",
              "</div>"
            ],
            "text/plain": [
              "       UniqueCarrier  TailNum   Origin     Dest CancellationCode\n",
              "count        1936758  1936753  1936758  1936758          1936758\n",
              "unique            20     5366      303      304                4\n",
              "top               WN   N325SW      ATL      ORD                N\n",
              "freq          377602      965   131613   108984          1936125"
            ]
          },
          "metadata": {},
          "execution_count": 27
        }
      ]
    },
    {
      "cell_type": "code",
      "metadata": {
        "id": "nPSkbRwOlPLO",
        "colab": {
          "base_uri": "https://localhost:8080/"
        },
        "outputId": "e5cb8dbd-659f-4ae4-c8df-e90aea5b2990"
      },
      "source": [
        "nuevodf = df.drop(['CRSArrTime','TaxiIn', 'TaxiOut',\n",
        "       'Cancelled', 'CancellationCode', 'Diverted', 'CarrierDelay',\n",
        "       'WeatherDelay', 'NASDelay', 'SecurityDelay', 'LateAircraftDelay','Month', 'DayofMonth', 'DayOfWeek','Unnamed: 0', 'Year', 'TailNum', 'TaxiIn', 'TaxiOut', 'CancellationCode', 'Diverted', 'DayOfWeek', 'FlightNum'], axis=1)\n",
        "nuevodf.info()"
      ],
      "execution_count": 72,
      "outputs": [
        {
          "output_type": "stream",
          "name": "stdout",
          "text": [
            "<class 'pandas.core.frame.DataFrame'>\n",
            "RangeIndex: 1936758 entries, 0 to 1936757\n",
            "Data columns (total 12 columns):\n",
            " #   Column             Dtype  \n",
            "---  ------             -----  \n",
            " 0   DepTime            float64\n",
            " 1   CRSDepTime         int64  \n",
            " 2   ArrTime            float64\n",
            " 3   UniqueCarrier      object \n",
            " 4   ActualElapsedTime  float64\n",
            " 5   CRSElapsedTime     float64\n",
            " 6   AirTime            float64\n",
            " 7   ArrDelay           float64\n",
            " 8   DepDelay           float64\n",
            " 9   Origin             object \n",
            " 10  Dest               object \n",
            " 11  Distance           int64  \n",
            "dtypes: float64(7), int64(2), object(3)\n",
            "memory usage: 177.3+ MB\n"
          ]
        }
      ]
    },
    {
      "cell_type": "markdown",
      "metadata": {
        "id": "RVhA0vuR9I2K"
      },
      "source": [
        "### Exercici 2\n",
        "**Fes un informe complet del data set:**"
      ]
    },
    {
      "cell_type": "markdown",
      "metadata": {
        "id": "2DWE8DChXOOe"
      },
      "source": [
        "**Resumeix estadísticament les columnes d’interès**\n",
        "\n"
      ]
    },
    {
      "cell_type": "code",
      "metadata": {
        "colab": {
          "base_uri": "https://localhost:8080/"
        },
        "id": "nNYU9X25o2X8",
        "outputId": "5817f128-8146-49ec-c51b-ccbc9e85bdbb"
      },
      "source": [
        "print (\"Distance:\")\n",
        "print(nuevodf['Distance'].describe())\n",
        "print(\"Air Time:\")\n",
        "print(nuevodf['AirTime'].describe())\n",
        "print (\"Arrive Delay:\")\n",
        "print(nuevodf['ArrDelay'].describe())\n",
        "print(\"Departure Delay:\")\n",
        "print(nuevodf['DepDelay'].describe())"
      ],
      "execution_count": 73,
      "outputs": [
        {
          "output_type": "stream",
          "name": "stdout",
          "text": [
            "Distance:\n",
            "count    1.936758e+06\n",
            "mean     7.656862e+02\n",
            "std      5.744797e+02\n",
            "min      1.100000e+01\n",
            "25%      3.380000e+02\n",
            "50%      6.060000e+02\n",
            "75%      9.980000e+02\n",
            "max      4.962000e+03\n",
            "Name: Distance, dtype: float64\n",
            "Air Time:\n",
            "count    1.928371e+06\n",
            "mean     1.082771e+02\n",
            "std      6.864261e+01\n",
            "min      0.000000e+00\n",
            "25%      5.800000e+01\n",
            "50%      9.000000e+01\n",
            "75%      1.370000e+02\n",
            "max      1.091000e+03\n",
            "Name: AirTime, dtype: float64\n",
            "Arrive Delay:\n",
            "count    1.928371e+06\n",
            "mean     4.219988e+01\n",
            "std      5.678472e+01\n",
            "min     -1.090000e+02\n",
            "25%      9.000000e+00\n",
            "50%      2.400000e+01\n",
            "75%      5.600000e+01\n",
            "max      2.461000e+03\n",
            "Name: ArrDelay, dtype: float64\n",
            "Departure Delay:\n",
            "count    1.936758e+06\n",
            "mean     4.318518e+01\n",
            "std      5.340250e+01\n",
            "min      6.000000e+00\n",
            "25%      1.200000e+01\n",
            "50%      2.400000e+01\n",
            "75%      5.300000e+01\n",
            "max      2.467000e+03\n",
            "Name: DepDelay, dtype: float64\n"
          ]
        }
      ]
    },
    {
      "cell_type": "markdown",
      "metadata": {
        "id": "WzdyvaYWXVgV"
      },
      "source": [
        "**Troba quantes dades faltants hi ha per columna**"
      ]
    },
    {
      "cell_type": "code",
      "metadata": {
        "colab": {
          "base_uri": "https://localhost:8080/"
        },
        "id": "hfG4vdBMVxGZ",
        "outputId": "04c1dcd8-c309-459f-a782-f3b22bcbea45"
      },
      "source": [
        "missing_values_count = nuevodf.isnull().sum()\n",
        "missing_values_count[0:]"
      ],
      "execution_count": 74,
      "outputs": [
        {
          "output_type": "execute_result",
          "data": {
            "text/plain": [
              "DepTime                 0\n",
              "CRSDepTime              0\n",
              "ArrTime              7110\n",
              "UniqueCarrier           0\n",
              "ActualElapsedTime    8387\n",
              "CRSElapsedTime        198\n",
              "AirTime              8387\n",
              "ArrDelay             8387\n",
              "DepDelay                0\n",
              "Origin                  0\n",
              "Dest                    0\n",
              "Distance                0\n",
              "dtype: int64"
            ]
          },
          "metadata": {},
          "execution_count": 74
        }
      ]
    },
    {
      "cell_type": "markdown",
      "metadata": {
        "id": "_R61Es1QXdtM"
      },
      "source": [
        "**Crea columnes noves (velocitat mitjana del vol, si ha arribat tard o no...)**\n"
      ]
    },
    {
      "cell_type": "code",
      "metadata": {
        "id": "ZaJoBtClXpVe",
        "colab": {
          "base_uri": "https://localhost:8080/"
        },
        "outputId": "f5bdcffe-860d-4e4b-d029-0713dec999d6"
      },
      "source": [
        "nuevodf['MeanSpeed'] = nuevodf['Distance']/nuevodf['AirTime']*60\n",
        "print(nuevodf['MeanSpeed'].describe())"
      ],
      "execution_count": 75,
      "outputs": [
        {
          "output_type": "stream",
          "name": "stdout",
          "text": [
            "count    1.928371e+06\n",
            "mean              inf\n",
            "std               NaN\n",
            "min      2.129032e+01\n",
            "25%      3.518644e+02\n",
            "50%      4.038202e+02\n",
            "75%      4.481481e+02\n",
            "max               inf\n",
            "Name: MeanSpeed, dtype: float64\n"
          ]
        }
      ]
    },
    {
      "cell_type": "code",
      "metadata": {
        "colab": {
          "base_uri": "https://localhost:8080/"
        },
        "id": "Je9_FWUOc0qq",
        "outputId": "5e0a0ce7-c218-41e9-b01c-a2b3683f418b"
      },
      "source": [
        "nuevodf['Delayed'] = nuevodf['ArrDelay'] > 0\n",
        "print (\"La cantidad de vuelos que ha llegado tarde es\", nuevodf['Delayed' ].sum())"
      ],
      "execution_count": 76,
      "outputs": [
        {
          "output_type": "stream",
          "name": "stdout",
          "text": [
            "La cantidad de vuelos que ha llegado tarde es 1723415\n"
          ]
        }
      ]
    },
    {
      "cell_type": "code",
      "metadata": {
        "colab": {
          "base_uri": "https://localhost:8080/"
        },
        "id": "opuPlxu1d148",
        "outputId": "d2a3d267-db74-4d39-ff9e-fce9900d8906"
      },
      "source": [
        "nuevodf.info()"
      ],
      "execution_count": 77,
      "outputs": [
        {
          "output_type": "stream",
          "name": "stdout",
          "text": [
            "<class 'pandas.core.frame.DataFrame'>\n",
            "RangeIndex: 1936758 entries, 0 to 1936757\n",
            "Data columns (total 14 columns):\n",
            " #   Column             Dtype  \n",
            "---  ------             -----  \n",
            " 0   DepTime            float64\n",
            " 1   CRSDepTime         int64  \n",
            " 2   ArrTime            float64\n",
            " 3   UniqueCarrier      object \n",
            " 4   ActualElapsedTime  float64\n",
            " 5   CRSElapsedTime     float64\n",
            " 6   AirTime            float64\n",
            " 7   ArrDelay           float64\n",
            " 8   DepDelay           float64\n",
            " 9   Origin             object \n",
            " 10  Dest               object \n",
            " 11  Distance           int64  \n",
            " 12  MeanSpeed          float64\n",
            " 13  Delayed            bool   \n",
            "dtypes: bool(1), float64(8), int64(2), object(3)\n",
            "memory usage: 193.9+ MB\n"
          ]
        }
      ]
    },
    {
      "cell_type": "markdown",
      "metadata": {
        "id": "YIg44HI1Xp04"
      },
      "source": [
        "**Taula de les aerolínies amb més endarreriments acumulats**"
      ]
    },
    {
      "cell_type": "code",
      "metadata": {
        "id": "ewlH1Ob9Xrq2",
        "colab": {
          "base_uri": "https://localhost:8080/",
          "height": 333
        },
        "outputId": "4ca28171-b588-4bad-c820-2d953986ee0c"
      },
      "source": [
        "aerolineasdf = nuevodf[['UniqueCarrier', 'ArrDelay', 'Distance']].groupby('UniqueCarrier' ).sum()\n",
        "print(\"Las aerolíneas con más retrasos son:\")\n",
        "aerolineasdf.sort_values(by='ArrDelay').plot(kind='bar')"
      ],
      "execution_count": 78,
      "outputs": [
        {
          "output_type": "stream",
          "name": "stdout",
          "text": [
            "Las aerolíneas con más retrasos son:\n"
          ]
        },
        {
          "output_type": "execute_result",
          "data": {
            "text/plain": [
              "<matplotlib.axes._subplots.AxesSubplot at 0x7f0756407310>"
            ]
          },
          "metadata": {},
          "execution_count": 78
        },
        {
          "output_type": "display_data",
          "data": {
            "image/png": "[encoded data removed]",
            "text/plain": [
              "<Figure size 432x288 with 1 Axes>"
            ]
          },
          "metadata": {
            "needs_background": "light"
          }
        }
      ]
    },
    {
      "cell_type": "markdown",
      "metadata": {
        "id": "cI7_fAqPXsBG"
      },
      "source": [
        "**Quins són els vols més llargs? I els més endarrerits?**"
      ]
    },
    {
      "cell_type": "code",
      "metadata": {
        "colab": {
          "base_uri": "https://localhost:8080/"
        },
        "id": "1dXZYYEzfoXU",
        "outputId": "9a990a01-9072-447c-c2fc-1660e2cc0f86"
      },
      "source": [
        "print (\"El vuelo más largo fue de\", nuevodf['AirTime'].max(), \"minutos\")\n",
        "print (\"El vuelo con más retraso fue de\", nuevodf['ArrDelay'].max(), \"minutos\")"
      ],
      "execution_count": 79,
      "outputs": [
        {
          "output_type": "stream",
          "name": "stdout",
          "text": [
            "El vuelo más largo fue de 1091.0 minutos\n",
            "El vuelo con más retraso fue de 2461.0 minutos\n"
          ]
        }
      ]
    },
    {
      "cell_type": "markdown",
      "metadata": {
        "id": "znLb-lN09T9E"
      },
      "source": [
        "### Exercici 3"
      ]
    },
    {
      "cell_type": "markdown",
      "metadata": {
        "id": "J1sEaNPC9Xow"
      },
      "source": [
        "Exporta el data set net i amb les noves columnes a Excel."
      ]
    },
    {
      "cell_type": "code",
      "metadata": {
        "id": "T3ffvCKwldr0"
      },
      "source": [
        "nuevodf.to_csv('DelayedFlights.csv',index=False)"
      ],
      "execution_count": 83,
      "outputs": []
    }
  ]
}